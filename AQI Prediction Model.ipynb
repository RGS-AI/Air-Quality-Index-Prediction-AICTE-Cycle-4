{
 "cells": [
  {
   "cell_type": "code",
   "execution_count": null,
   "id": "7cbabd71-f80f-4095-98b8-5017b157ae6a",
   "metadata": {},
   "outputs": [],
   "source": []
  }
 ],
 "metadata": {
  "kernelspec": {
   "display_name": "",
   "name": ""
  },
  "language_info": {
   "name": ""
  }
 },
 "nbformat": 4,
 "nbformat_minor": 5
}
